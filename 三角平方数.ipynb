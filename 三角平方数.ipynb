{
  "nbformat": 4,
  "nbformat_minor": 0,
  "metadata": {
    "colab": {
      "name": "三角平方数.ipynb",
      "version": "0.3.2",
      "provenance": [],
      "include_colab_link": true
    },
    "kernelspec": {
      "name": "python3",
      "display_name": "Python 3"
    }
  },
  "cells": [
    {
      "cell_type": "markdown",
      "metadata": {
        "id": "view-in-github",
        "colab_type": "text"
      },
      "source": [
        "<a href=\"https://colab.research.google.com/github/kintarou/kintarou.github.io/blob/master/%E4%B8%89%E8%A7%92%E5%B9%B3%E6%96%B9%E6%95%B0.ipynb\" target=\"_parent\"><img src=\"https://colab.research.google.com/assets/colab-badge.svg\" alt=\"Open In Colab\"/></a>"
      ]
    },
    {
      "cell_type": "code",
      "metadata": {
        "id": "p7_gVDN0rDB_",
        "colab_type": "code",
        "colab": {
          "base_uri": "https://localhost:8080/",
          "height": 141
        },
        "outputId": "78ebaf27-d9da-4133-deaf-de78e5628671"
      },
      "source": [
        "for m in range(10000):\n",
        "  for n in range(10000):\n",
        "    if m*(m+1)/2 == n**2:\n",
        "      print(m,n)"
      ],
      "execution_count": 1,
      "outputs": [
        {
          "output_type": "stream",
          "text": [
            "0 0\n",
            "1 1\n",
            "8 6\n",
            "49 35\n",
            "288 204\n",
            "1681 1189\n",
            "9800 6930\n"
          ],
          "name": "stdout"
        }
      ]
    },
    {
      "cell_type": "code",
      "metadata": {
        "id": "A3iWeyMSuMo3",
        "colab_type": "code",
        "colab": {
          "base_uri": "https://localhost:8080/",
          "height": 34
        },
        "outputId": "59d9a965-ea22-4392-c988-516e3ad4e0b2"
      },
      "source": [
        "import math \n",
        "for m in range(1, 10000):\n",
        "  n = math.sqrt(m*(m+1)/2)\n",
        "  if m == n:\n",
        "    print(m)"
      ],
      "execution_count": 7,
      "outputs": [
        {
          "output_type": "stream",
          "text": [
            "1\n"
          ],
          "name": "stdout"
        }
      ]
    },
    {
      "cell_type": "code",
      "metadata": {
        "id": "c4wfxq01sQAf",
        "colab_type": "code",
        "colab": {
          "base_uri": "https://localhost:8080/",
          "height": 87
        },
        "outputId": "72decfb7-bcd6-4ff4-d249-2ada61f12eb3"
      },
      "source": [
        "import math\n",
        "\n",
        "MAX = 10000\n",
        "n = 0\n",
        "Tn = n*(n+1)/2\n",
        "while Tn <= MAX:\n",
        "  if math.sqrt(Tn)%1 == 0:\n",
        "    print(int(Tn))\n",
        "  n = n+1\n",
        "  Tn = n*(n+1)/2"
      ],
      "execution_count": 8,
      "outputs": [
        {
          "output_type": "stream",
          "text": [
            "0\n",
            "1\n",
            "36\n",
            "1225\n"
          ],
          "name": "stdout"
        }
      ]
    }
  ]
}