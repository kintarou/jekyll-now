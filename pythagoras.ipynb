{
  "nbformat": 4,
  "nbformat_minor": 0,
  "metadata": {
    "colab": {
      "name": "pythagoras.ipynb",
      "version": "0.3.2",
      "provenance": [],
      "include_colab_link": true
    },
    "kernelspec": {
      "name": "python3",
      "display_name": "Python 3"
    }
  },
  "cells": [
    {
      "cell_type": "markdown",
      "metadata": {
        "id": "view-in-github",
        "colab_type": "text"
      },
      "source": [
        "<a href=\"https://colab.research.google.com/github/kintarou/kintarou.github.io/blob/master/pythagoras.ipynb\" target=\"_parent\"><img src=\"https://colab.research.google.com/assets/colab-badge.svg\" alt=\"Open In Colab\"/></a>"
      ]
    },
    {
      "cell_type": "code",
      "metadata": {
        "id": "zvb7lYudKrbA",
        "colab_type": "code",
        "colab": {
          "base_uri": "https://localhost:8080/",
          "height": 247
        },
        "outputId": "a49a96d6-5472-4fcf-96ea-9c8d5e086858"
      },
      "source": [
        "lower = int(input(\"最も短い辺の長さを入力する: \"))\n",
        "upper = int(input(\"最も長い辺の長さを入力する: \"))\n",
        "print(\"%s から %s までの辺の長さで、直角三角形になる3辺の組合わせは、\" %(lower, upper))\n",
        "\n",
        "for i in range(lower,upper + 1):\n",
        "    for j in range(i + 1, upper +1):\n",
        "       for k in range(i + 2, upper +1):\n",
        "          if (i**2 + j**2 - k**2) == 0:\n",
        "              print(i, j, k)\n"
      ],
      "execution_count": 1,
      "outputs": [
        {
          "output_type": "stream",
          "text": [
            "最も短い辺の長さを入力する: 3\n",
            "最も長い辺の長さを入力する: 29\n",
            "3 から 29 までの辺の長さで、直角三角形になる3辺の組合わせは、\n",
            "3 4 5\n",
            "5 12 13\n",
            "6 8 10\n",
            "7 24 25\n",
            "8 15 17\n",
            "9 12 15\n",
            "10 24 26\n",
            "12 16 20\n",
            "15 20 25\n",
            "20 21 29\n"
          ],
          "name": "stdout"
        }
      ]
    }
  ]
}